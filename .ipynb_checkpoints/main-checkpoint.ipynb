{
 "cells": [
  {
   "cell_type": "code",
   "execution_count": null,
   "id": "9735baa5-e317-4212-8c34-0c784f6c8d9f",
   "metadata": {},
   "outputs": [],
   "source": [
    "# accept a ground truth dataset (sentence and list of tuples of start and end indexes)\n",
    "# calculate accuracy of the regex on them"
   ]
  },
  {
   "cell_type": "code",
   "execution_count": 1,
   "id": "298536c0-f462-4a16-807b-9e1cfa55ca93",
   "metadata": {},
   "outputs": [],
   "source": [
    "pattern = r'\\b(?:a/c|account) no\\.?\\s+(\\w+)'"
   ]
  },
  {
   "cell_type": "code",
   "execution_count": 2,
   "id": "228ac364-e71b-40f6-8de4-ce4528cfc923",
   "metadata": {},
   "outputs": [],
   "source": [
    "import pandas as pd"
   ]
  },
  {
   "cell_type": "code",
   "execution_count": null,
   "id": "9603355f-6aad-4102-bdac-5521c8f1b33a",
   "metadata": {},
   "outputs": [],
   "source": [
    "df_truth = pd.read_csv('data/truth.csv')"
   ]
  }
 ],
 "metadata": {
  "kernelspec": {
   "display_name": "py310",
   "language": "python",
   "name": "py310"
  },
  "language_info": {
   "codemirror_mode": {
    "name": "ipython",
    "version": 3
   },
   "file_extension": ".py",
   "mimetype": "text/x-python",
   "name": "python",
   "nbconvert_exporter": "python",
   "pygments_lexer": "ipython3",
   "version": "3.10.0"
  }
 },
 "nbformat": 4,
 "nbformat_minor": 5
}
