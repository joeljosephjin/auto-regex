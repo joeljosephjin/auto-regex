{
 "cells": [
  {
   "cell_type": "code",
   "execution_count": null,
   "id": "9735baa5-e317-4212-8c34-0c784f6c8d9f",
   "metadata": {},
   "outputs": [],
   "source": [
    "# accept a ground truth dataset (sentence and list of tuples of start and end indexes)\n",
    "# calculate accuracy of the regex on them"
   ]
  },
  {
   "cell_type": "code",
   "execution_count": 2,
   "id": "228ac364-e71b-40f6-8de4-ce4528cfc923",
   "metadata": {},
   "outputs": [],
   "source": [
    "import pandas as pd"
   ]
  },
  {
   "cell_type": "code",
   "execution_count": 1,
   "id": "298536c0-f462-4a16-807b-9e1cfa55ca93",
   "metadata": {},
   "outputs": [],
   "source": [
    "pattern = r'\\b(?:a/c|account) no\\.?\\s+(\\w+)'"
   ]
  },
  {
   "cell_type": "code",
   "execution_count": 3,
   "id": "9603355f-6aad-4102-bdac-5521c8f1b33a",
   "metadata": {},
   "outputs": [],
   "source": [
    "df_truth = pd.read_csv('data/truth.csv')"
   ]
  },
  {
   "cell_type": "code",
   "execution_count": 4,
   "id": "817c652e-6038-4911-bcde-27d6706cdcbf",
   "metadata": {},
   "outputs": [
    {
     "data": {
      "text/html": [
       "<div>\n",
       "<style scoped>\n",
       "    .dataframe tbody tr th:only-of-type {\n",
       "        vertical-align: middle;\n",
       "    }\n",
       "\n",
       "    .dataframe tbody tr th {\n",
       "        vertical-align: top;\n",
       "    }\n",
       "\n",
       "    .dataframe thead th {\n",
       "        text-align: right;\n",
       "    }\n",
       "</style>\n",
       "<table border=\"1\" class=\"dataframe\">\n",
       "  <thead>\n",
       "    <tr style=\"text-align: right;\">\n",
       "      <th></th>\n",
       "      <th>sms</th>\n",
       "      <th>tags</th>\n",
       "    </tr>\n",
       "  </thead>\n",
       "  <tbody>\n",
       "    <tr>\n",
       "      <th>0</th>\n",
       "      <td>bank of india  account statement name abcd acc...</td>\n",
       "      <td>['account no. 123456']</td>\n",
       "    </tr>\n",
       "    <tr>\n",
       "      <th>1</th>\n",
       "      <td>statement for a/c no 11111111 between 16-09-20...</td>\n",
       "      <td>['a/c no 11111111']</td>\n",
       "    </tr>\n",
       "  </tbody>\n",
       "</table>\n",
       "</div>"
      ],
      "text/plain": [
       "                                                 sms                    tags\n",
       "0  bank of india  account statement name abcd acc...  ['account no. 123456']\n",
       "1  statement for a/c no 11111111 between 16-09-20...     ['a/c no 11111111']"
      ]
     },
     "execution_count": 4,
     "metadata": {},
     "output_type": "execute_result"
    }
   ],
   "source": [
    "df_truth"
   ]
  },
  {
   "cell_type": "code",
   "execution_count": 6,
   "id": "9f426613-5c6b-4287-b9a1-e10114dd2d4f",
   "metadata": {},
   "outputs": [],
   "source": [
    "import re"
   ]
  },
  {
   "cell_type": "code",
   "execution_count": 8,
   "id": "763f5fff-c5a6-4d26-8c7b-47a66893022a",
   "metadata": {},
   "outputs": [
    {
     "data": {
      "text/plain": [
       "['11111111']"
      ]
     },
     "execution_count": 8,
     "metadata": {},
     "output_type": "execute_result"
    }
   ],
   "source": [
    "# def calc_accuracy(df, pattern):\n",
    "    \n",
    "re.findall(pattern, df_truth['sms'][1])"
   ]
  },
  {
   "cell_type": "code",
   "execution_count": null,
   "id": "657dc497-2d6f-47e3-a383-1127a4ff4e1c",
   "metadata": {},
   "outputs": [],
   "source": []
  }
 ],
 "metadata": {
  "kernelspec": {
   "display_name": "py310",
   "language": "python",
   "name": "py310"
  },
  "language_info": {
   "codemirror_mode": {
    "name": "ipython",
    "version": 3
   },
   "file_extension": ".py",
   "mimetype": "text/x-python",
   "name": "python",
   "nbconvert_exporter": "python",
   "pygments_lexer": "ipython3",
   "version": "3.10.0"
  }
 },
 "nbformat": 4,
 "nbformat_minor": 5
}
